{
 "cells": [
  {
   "cell_type": "markdown",
   "metadata": {},
   "source": [
    "# Regular Expression(정규 표현식)"
   ]
  },
  {
   "cell_type": "markdown",
   "metadata": {},
   "source": [
    "정규 표현식이라는 이름은 정규 문자열을 식별하는 데 쓰이는 데서 유래했다.\n",
    "즉, 문자열이 주어진 규칙에 일치하는지, 일치하지 않는지 판단 하기위해 사용한다."
   ]
  },
  {
   "cell_type": "markdown",
   "metadata": {},
   "source": [
    "---"
   ]
  },
  {
   "cell_type": "markdown",
   "metadata": {},
   "source": [
    "정규 표현식은 긴 문서에서 전화번호나 이메일 주소 같은 문자열을 빠르게 찾아보려고 할 때 무척 유용하다."
   ]
  },
  {
   "cell_type": "markdown",
   "metadata": {},
   "source": [
    "그럼 정규 문자열이라고 하는 것은 무엇이냐?\n",
    "- 다음과 같이 선형 규칙을 연달아 적용해 생성할 수 있는 문자열을 말한다."
   ]
  },
  {
   "cell_type": "markdown",
   "metadata": {},
   "source": [
    "1. 글자'a'를 최소한 한 번 쓰시오.\n",
    "2. 그 뒤에 'b'를 정확히 다섯 개 쓰시오.\n",
    "3. 그 뒤에 'c'를 짝수 번 쓰시오.\n",
    "4. 마지막에'd'또는'e'를 쓰시오."
   ]
  },
  {
   "cell_type": "markdown",
   "metadata": {},
   "source": [
    "그럼 이 규칙에 따르는 문자열은 'aaaabbbbbccccd','aabbbbbcce'등이 있고 그 조합은 무한하다."
   ]
  },
  {
   "cell_type": "markdown",
   "metadata": {},
   "source": [
    "결론은 정규 표현식은 이러한 규칙들을 짧게 줄여 쓴것에 불과하다.\n",
    "- 위에 규칙 4개를 하나로 합치면\n",
    "- aa * bbbbb(cc) * (d|e) = 이런 식으로 표현할 수 있다."
   ]
  },
  {
   "cell_type": "markdown",
   "metadata": {},
   "source": [
    "1. a* = 이 표현은 'a'라는 글자가 몇 개든 상관없고 0개여도 된다는 뜻이다.\n",
    "    하지만 앞에 'a'가 더 붙어서 'aa*'이라면 최소한은 'a'를 한번 있다는 뜻이다."
   ]
  },
  {
   "cell_type": "markdown",
   "metadata": {},
   "source": [
    "2. 'bbbbb' = 특별한 부분은 없다. 그냥 'b'다섯 개를 연이어 쓴 것이다. "
   ]
  },
  {
   "cell_type": "markdown",
   "metadata": {},
   "source": [
    "3. (cc)* = 괄호안에 짝수에 해당하는 숫자 2만큼 'c'글자를 넣는다. 그리고 괄호 뒤에 '*'(아스테리스크)를 붙여준다.\n",
    "    만약에 홀수를 원한다면 홀수에 해당하는 숫자 3만큼 'c'글자를 넣는다."
   ]
  },
  {
   "cell_type": "markdown",
   "metadata": {},
   "source": [
    "4. (d|e) = 표현식 중간에 있는 막대는 '이거 아니면 저거' 라는 OR개념이다."
   ]
  },
  {
   "cell_type": "code",
   "execution_count": null,
   "metadata": {},
   "outputs": [],
   "source": []
  }
 ],
 "metadata": {
  "kernelspec": {
   "display_name": "Python 3",
   "language": "python",
   "name": "python3"
  },
  "language_info": {
   "codemirror_mode": {
    "name": "ipython",
    "version": 3
   },
   "file_extension": ".py",
   "mimetype": "text/x-python",
   "name": "python",
   "nbconvert_exporter": "python",
   "pygments_lexer": "ipython3",
   "version": "3.7.3"
  }
 },
 "nbformat": 4,
 "nbformat_minor": 2
}
